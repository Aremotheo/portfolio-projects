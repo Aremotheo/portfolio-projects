{
  "metadata": {
    "kernelspec": {
      "name": "python",
      "display_name": "Python (Pyodide)",
      "language": "python"
    },
    "language_info": {
      "codemirror_mode": {
        "name": "python",
        "version": 3
      },
      "file_extension": ".py",
      "mimetype": "text/x-python",
      "name": "python",
      "nbconvert_exporter": "python",
      "pygments_lexer": "ipython3",
      "version": "3.8"
    }
  },
  "nbformat_minor": 4,
  "nbformat": 4,
  "cells": [
    {
      "cell_type": "markdown",
      "source": "# Finding the Profitable App to build for the AppStore and Google Play Markets",
      "metadata": {
        "tags": []
      }
    },
    {
      "cell_type": "markdown",
      "source": "I pretend was working as data analysts for a company that builds Android and iOS mobile apps. \n\nIn this project we'll aim to analyze data to help our developers understand what type of apps are likely to attract more users\n\nWe make our apps available on Google Play and in the App Store.We only build apps that are free to download and install, and our main source of revenue consists of in-app ads. This means that the number of users of our apps determines our revenue for any given app — the more users who see and engage with the ads, the better.\n\nwe'll analyse existing dataset containing app_genres, installs, user_rating and more from both <a href=\"https://www.kaggle.com/lava18/google-play-store-apps\">IOS</a> and <a href=\"https://www.kaggle.com/lava18/google-play-store-apps\">Google Play</a> Store Market\n\nTo make our recomendation, we'll try to find out:\n* The most common apps by Genre for both markets?\n* The average number of installs for each app genre\n\n\n#### Summary of Results\nAfter analysing the data, the only solid conclusion we reached is that, a Music app would be the best to build. We can incoperate different features into it, like the ability to watch the music videos of artists, send them messages directly in their Dms on the app and more.",
      "metadata": {}
    },
    {
      "cell_type": "markdown",
      "source": "#### Converting both datasets to lists of lists",
      "metadata": {}
    },
    {
      "cell_type": "code",
      "source": "#Reusable function to convert csv file to lists of lists dataset\ndef convt_to_list(csvfile):\n    opened_data = open(csvfile, encoding='utf8')\n    from csv import reader\n    read_dataset = reader(opened_data)\n    \n    return list(read_dataset)\n\n#Google PlayStore Data\ngoogleplay_data = convt_to_list('googleplaystore.csv')\n#Ios App Data\napplestore_data = convt_to_list('AppleStore.csv')\n",
      "metadata": {},
      "execution_count": 2,
      "outputs": []
    },
    {
      "cell_type": "markdown",
      "source": "Reusable function to print rows or columns in a readable way",
      "metadata": {}
    },
    {
      "cell_type": "code",
      "source": "def explore_data(dataset, start, end, rows_and_columns=False):\n    dataset_slice = dataset[start:end]\n    for row in dataset_slice:\n        print(row)\n        print('\\n')\n        \n    if rows_and_columns:\n        print('Number of rows:', len(dataset))\n        print('Number of columns:', len(dataset[0]))\n        \n#Printing number of rows and column in the dataset       \nexplore_data(googleplay_data, 1 , 0, True)\nprint('\\n')\n\n#Printing some few rows\n\n#Google PlayStore\nexplore_data(googleplay_data, 0 , 5)\nprint('\\n')\n#Apple Ios Store\nexplore_data(applestore_data, 0 , 5)",
      "metadata": {
        "scrolled": true
      },
      "execution_count": 3,
      "outputs": [
        {
          "name": "stdout",
          "output_type": "stream",
          "text": "Number of rows: 10842\n\nNumber of columns: 13\n\n\n\n\n\n['App', 'Category', 'Rating', 'Reviews', 'Size', 'Installs', 'Type', 'Price', 'Content Rating', 'Genres', 'Last Updated', 'Current Ver', 'Android Ver']\n\n\n\n\n\n['Photo Editor & Candy Camera & Grid & ScrapBook', 'ART_AND_DESIGN', '4.1', '159', '19M', '10,000+', 'Free', '0', 'Everyone', 'Art & Design', 'January 7, 2018', '1.0.0', '4.0.3 and up']\n\n\n\n\n\n['Coloring book moana', 'ART_AND_DESIGN', '3.9', '967', '14M', '500,000+', 'Free', '0', 'Everyone', 'Art & Design;Pretend Play', 'January 15, 2018', '2.0.0', '4.0.3 and up']\n\n\n\n\n\n['U Launcher Lite – FREE Live Cool Themes, Hide Apps', 'ART_AND_DESIGN', '4.7', '87510', '8.7M', '5,000,000+', 'Free', '0', 'Everyone', 'Art & Design', 'August 1, 2018', '1.2.4', '4.0.3 and up']\n\n\n\n\n\n['Sketch - Draw & Paint', 'ART_AND_DESIGN', '4.5', '215644', '25M', '50,000,000+', 'Free', '0', 'Teen', 'Art & Design', 'June 8, 2018', 'Varies with device', '4.2 and up']\n\n\n\n\n\n\n\n\n\n['id', 'track_name', 'size_bytes', 'currency', 'price', 'rating_count_tot', 'rating_count_ver', 'user_rating', 'user_rating_ver', 'ver', 'cont_rating', 'prime_genre', 'sup_devices.num', 'ipadSc_urls.num', 'lang.num', 'vpp_lic']\n\n\n\n\n\n['284882215', 'Facebook', '389879808', 'USD', '0.0', '2974676', '212', '3.5', '3.5', '95.0', '4+', 'Social Networking', '37', '1', '29', '1']\n\n\n\n\n\n['389801252', 'Instagram', '113954816', 'USD', '0.0', '2161558', '1289', '4.5', '4.0', '10.23', '12+', 'Photo & Video', '37', '0', '29', '1']\n\n\n\n\n\n['529479190', 'Clash of Clans', '116476928', 'USD', '0.0', '2130805', '579', '4.5', '4.5', '9.24.12', '9+', 'Games', '38', '5', '18', '1']\n\n\n\n\n\n['420009108', 'Temple Run', '65921024', 'USD', '0.0', '1724546', '3842', '4.5', '4.0', '1.6.2', '9+', 'Games', '40', '5', '1', '1']\n\n\n\n\n"
        }
      ]
    },
    {
      "cell_type": "markdown",
      "source": "## Cleaning Data",
      "metadata": {}
    },
    {
      "cell_type": "markdown",
      "source": "From the discussion section on Kaggle row 10473 has a column shift, it means, some data where missing for some columns. But i have to check for myself. I also have to check the rows for empty strings and other rows too for possible column shift.",
      "metadata": {}
    },
    {
      "cell_type": "markdown",
      "source": "#### Checking for Rows With empty Strings",
      "metadata": {}
    },
    {
      "cell_type": "code",
      "source": "def check_for_empty_strings(dataset):\n    # Initialize lists to store rows and columns with empty strings\n    rows_with_empty_strings = []\n    columns_with_empty_strings = []\n\n    # Iterate through the dataset rows\n    for row_index in range(len(dataset)):\n        row = dataset[row_index]\n\n        # Iterate through the cells in the current row\n        for col_index in range(len(row)):\n            cell = row[col_index]\n\n            if cell == \"\":\n                # Record the row and column indices where an empty string is found\n                rows_with_empty_strings.append(row_index)\n                columns_with_empty_strings.append(col_index)\n\n    return rows_with_empty_strings, columns_with_empty_strings\n\n\n# Call the function to check for empty strings\nempty_rows, empty_columns = check_for_empty_strings(googleplay_data)\n\n# Print rows and columns with empty strings\nif empty_rows:\n    print(\"Rows with empty strings:\", empty_rows)\nelse:\n    print(\"No empty strings found in rows\")\n\nif empty_columns:\n    print(\"Columns with empty strings:\", empty_columns)\nelse:\n    print(\"No empty strings found in columns\")\n",
      "metadata": {},
      "execution_count": 4,
      "outputs": [
        {
          "name": "stdout",
          "output_type": "stream",
          "text": "Rows with empty strings: [1554, 10473]\n\nColumns with empty strings: [11, 8]\n"
        }
      ]
    },
    {
      "cell_type": "markdown",
      "source": "#### Checking for Column shift",
      "metadata": {}
    },
    {
      "cell_type": "code",
      "source": "def check_for_column_shift(dataset):\n    # Check if the dataset is empty\n    if not dataset:\n        return \"Dataset is empty\"\n\n    # Determine the expected number of columns based on the length of the header row\n    expected_num_columns = len(dataset[0])\n\n    # Initialize a list to store rows with potential column shifts\n    rows_with_column_shift = []\n\n    # Iterate through the dataset rows, excluding the header row (start from index 1)\n    for row_index in range(1, len(dataset)):\n        # Check if the current row has a different number of columns than expected\n        if len(dataset[row_index]) != expected_num_columns:\n            rows_with_column_shift.append(row_index)\n\n    if not rows_with_column_shift:\n        return \"No column shifts found\"\n\n    return rows_with_column_shift\n\n# Call the function to check for column shifts\ncolumn_shifts = check_for_column_shift(googleplay_data)\n\n# Print rows with potential column shifts or a message if no shifts were found\nif column_shifts == \"Dataset is empty\":\n    print(column_shifts)\nelif column_shifts == \"No column shifts found\":\n    print(column_shifts)\nelse:\n    print(\"Rows with potential column shifts:\", column_shifts)\n",
      "metadata": {},
      "execution_count": 5,
      "outputs": [
        {
          "name": "stdout",
          "output_type": "stream",
          "text": "Rows with potential column shifts: [10473]\n"
        }
      ]
    },
    {
      "cell_type": "markdown",
      "source": "You can see that row 1555 and thesame row 10473 has empty string. So we need to delete the row with empty strings. We are deleting these rows to maintain data quality and ensure that your dataset follows a consistent structure and for accurate analysys.",
      "metadata": {}
    },
    {
      "cell_type": "code",
      "source": "##### Deleting error Rows",
      "metadata": {},
      "execution_count": 6,
      "outputs": []
    },
    {
      "cell_type": "code",
      "source": "del googleplay_data[10473]\ndel googleplay_data[1554]",
      "metadata": {},
      "execution_count": 7,
      "outputs": []
    },
    {
      "cell_type": "markdown",
      "source": "#### Checking for rows with duplicate apps",
      "metadata": {}
    },
    {
      "cell_type": "code",
      "source": "def print_duplicate_apps(dataset, app_name_column, num_duplicates_to_print=5):\n    # Check if the dataset is empty\n    if not dataset:\n        return \"Dataset is empty\"\n\n    # Initialize a set to store unique app names\n    unique_app_names = set()\n\n    # Initialize a list to store duplicate app names\n    duplicate_app_names = []\n\n    # Iterate through the dataset rows, starting from the second row (excluding header)\n    for row in dataset[1:]:\n        app_name = row[app_name_column]\n\n        if app_name in unique_app_names:\n            # If the app name is already in the set, it's a duplicate\n            duplicate_app_names.append(app_name)\n        else:\n            # If the app name is not in the set, add it\n            unique_app_names.add(app_name)\n\n    if not duplicate_app_names:\n        return \"No duplicate apps found\"\n\n    # Print the specified number of duplicate app names\n    print(f\"Duplicate Apps (First {num_duplicates_to_print} Names):\")\n    for app_name in duplicate_app_names[:num_duplicates_to_print]:\n        print(app_name)\n    return \"Total duplicate apps found: \" + str(len(duplicate_app_names))\n\n\n# Specify the column index for the \"App Name\" column (e.g., column \"App Name\" in this case)\napp_name_column_index = 1\n\n# Call the function to print 5 duplicate app names\nresult = print_duplicate_apps(googleplay_data, 0, num_duplicates_to_print=5)\n\nprint('\\n')\n\n# Print the result message\nprint(result)\n",
      "metadata": {},
      "execution_count": 8,
      "outputs": [
        {
          "name": "stdout",
          "output_type": "stream",
          "text": "Duplicate Apps (First 5 Names):\n\nQuick PDF Scanner + OCR FREE\n\nBox\n\nGoogle My Business\n\nZOOM Cloud Meetings\n\njoin.me - Simple Meetings\n\n\n\n\n\nTotal duplicate apps found: 1181\n"
        }
      ]
    },
    {
      "cell_type": "markdown",
      "source": "I am not going to remove the duplicates randomly. The higher the number of reviews, the more recent the data should be. So we'll keep the any duplicate app with the highest review. ",
      "metadata": {}
    },
    {
      "cell_type": "markdown",
      "source": "#### Removing Duplicate apps",
      "metadata": {}
    },
    {
      "cell_type": "code",
      "source": "def remove_duplicates_keep_highest_reviews(dataset):\n    # Create a dictionary to store apps and their highest reviews\n    app_highest_reviews = {}\n\n    # Iterate through the dataset, starting from the second row (index 1)\n    for row in dataset[1:]:\n        app_name = row[0]\n        reviews = row[3]\n\n        # Check if the app_name is already in the dictionary\n        if app_name in app_highest_reviews:\n            # If yes, compare reviews with the stored highest reviews\n            if reviews > app_highest_reviews[app_name][3]:\n                app_highest_reviews[app_name] = row\n        else:\n            # If no, add the app to the dictionary\n            app_highest_reviews[app_name] = row\n\n    # Convert the dictionary values (rows) to a list to create the cleaned dataset\n    cleaned_dataset = [dataset[0]]  # Initialize with the header\n    cleaned_dataset.extend(app_highest_reviews.values())\n\n    return cleaned_dataset\n\n# Call the function to remove duplicates and keep entries with the highest reviews\ncleaned_dataset = remove_duplicates_keep_highest_reviews(googleplay_data)\n\n# Print the length of cleaned dataset\nprint('After removing duplicate entries with less reviews we are left with', len(cleaned_dataset), 'row')",
      "metadata": {},
      "execution_count": 9,
      "outputs": [
        {
          "name": "stdout",
          "output_type": "stream",
          "text": "After removing duplicate entries with less reviews we are left with 9659 row\n"
        }
      ]
    },
    {
      "cell_type": "markdown",
      "source": "#### Filtering Non-English Apps for both datasets\n\nWe're building apps for the English speaking audience, so it would be better to remove apps that are not english apps for both datasets",
      "metadata": {}
    },
    {
      "cell_type": "code",
      "source": "def is_english(app_name):\n    # Function to check if the app name contains predominantly English characters\n    non_english_chars = 0\n    for char in app_name:\n        if ord(char) > 127:\n            non_english_chars += 1\n        if non_english_chars > 3:\n            return False\n    return True\n\ndef filter_english_apps(dataset, app_name_column):\n    # Check if the dataset is empty\n    if not dataset:\n        return \"Dataset is empty\"\n\n    # Initialize a list to store rows of English apps\n    english_apps = []\n\n    # Iterate through the dataset rows, starting from the second row (excluding header)\n    for row in dataset[1:]:\n        app_name = row[app_name_column]\n        \n        if is_english(app_name):\n            # If the app name is identified as English, append the whole row to the English apps list\n            english_apps.append(row)\n\n    if not english_apps:\n        return \"No English apps found in the dataset\"\n\n    # Create a new dataset with only the English apps (including the header row)\n    new_dataset = [dataset[0]] + english_apps\n\n    return new_dataset\n\n\n# Call the function to filter out English apps\ngoogleplay_dataset = filter_english_apps(cleaned_dataset, 0)\napplestore_dataset = filter_english_apps(applestore_data, 1)\n\n# Print the new dataset with only English apps\nprint(len(googleplay_dataset),  'Rows Left after removing Non-English Apps from Google Play Dataset')\nprint('\\n')\nprint(len(applestore_dataset),  'Rows Left after removing Non-English Apps from Apple Store Dataset')\n",
      "metadata": {},
      "execution_count": 10,
      "outputs": [
        {
          "name": "stdout",
          "output_type": "stream",
          "text": "9614 Rows Left after removing Non-English Apps from Google Play Dataset\n\n\n\n\n\n6184 Rows Left after removing Non-English Apps from Apple Store Dataset\n"
        }
      ]
    },
    {
      "cell_type": "markdown",
      "source": "#### Isolating the Free Apps\nRemember that we are building free apps, for this reason we'll remove paid apps from the dataset",
      "metadata": {}
    },
    {
      "cell_type": "code",
      "source": "def isolate_free_apps(dataset, price_column):\n    # Check if the dataset is empty\n    if not dataset:\n        return \"Dataset is empty\"\n\n    # Initialize a list to store rows of free apps\n    free_apps = []\n\n    # Iterate through the dataset rows, starting from the second row (excluding header)\n    for row in dataset[1:]:\n        price = row[price_column]\n        \n        # Remove dollar signs and leading/trailing spaces, and convert to lowercase for case-insensitive matching\n        price = price.strip(\"$\").strip().lower()\n        \n        if price == \"0\" or price == \"0.0\" or price == \"free\":\n            # If the app is free (price is \"0\", \"0.0\", or \"free\"), append the whole row to the free apps list\n            free_apps.append(row)\n\n    if not free_apps:\n        return \"No free apps found in the dataset\"\n\n    # Create a new dataset with only the free apps (including the header row)\n    new_dataset = [dataset[0]] + free_apps\n    return new_dataset\n\nprint('length of googleplay_dataset: ', len(isolate_free_apps(googleplay_dataset, 7)))\nprint('length of apple ios store dataset: ', len(isolate_free_apps(applestore_dataset, 4)))",
      "metadata": {
        "scrolled": true,
        "trusted": true
      },
      "execution_count": 1,
      "outputs": [
        {
          "ename": "<class 'NameError'>",
          "evalue": "name 'googleplay_dataset' is not defined",
          "traceback": [
            "\u001b[0;31m---------------------------------------------------------------------------\u001b[0m",
            "\u001b[0;31mNameError\u001b[0m                                 Traceback (most recent call last)",
            "Cell \u001b[0;32mIn[1], line 27\u001b[0m\n\u001b[1;32m     24\u001b[0m     new_dataset \u001b[38;5;241m=\u001b[39m [dataset[\u001b[38;5;241m0\u001b[39m]] \u001b[38;5;241m+\u001b[39m free_apps\n\u001b[1;32m     25\u001b[0m     \u001b[38;5;28;01mreturn\u001b[39;00m new_dataset\n\u001b[0;32m---> 27\u001b[0m \u001b[38;5;28mprint\u001b[39m(\u001b[38;5;124m'\u001b[39m\u001b[38;5;124mlength of googleplay_dataset: \u001b[39m\u001b[38;5;124m'\u001b[39m, \u001b[38;5;28mlen\u001b[39m(isolate_free_apps(\u001b[43mgoogleplay_dataset\u001b[49m, \u001b[38;5;241m7\u001b[39m)))\n\u001b[1;32m     28\u001b[0m \u001b[38;5;28mprint\u001b[39m(\u001b[38;5;124m'\u001b[39m\u001b[38;5;124mlength of apple ios store dataset: \u001b[39m\u001b[38;5;124m'\u001b[39m, \u001b[38;5;28mlen\u001b[39m(isolate_free_apps(applestore_dataset, \u001b[38;5;241m4\u001b[39m)))\n",
            "\u001b[0;31mNameError\u001b[0m: name 'googleplay_dataset' is not defined"
          ],
          "output_type": "error"
        }
      ]
    },
    {
      "cell_type": "markdown",
      "source": "## Analysis( Finding the Apps that will attract the most users)",
      "metadata": {}
    },
    {
      "cell_type": "markdown",
      "source": "Now that we are done with the cleaning part, We'll get to the analysis part. Our company's main goal to generate revenue by attracting more customers, To achieve this, We are going to use the following validation Strategy:\n\n- Make a minimal android version of the app, and add it to GooglePlay.\n- If the app is attracting enough users, We develop it further.\n- After 6 months, if the app is profitable, we build an IOS version of the app and add it to App Store\n\nWe are going to be using the App Store 'prime_genre'  column and Google play dataset Genres and Category' column. We'll be checking the most common apps by Genres to determine the most frequent app genres.",
      "metadata": {}
    },
    {
      "cell_type": "markdown",
      "source": "#### Generating a Frequency Table for the two markets( Googleplay store and Ios app store)",
      "metadata": {}
    },
    {
      "cell_type": "code",
      "source": "def build_frequency_table(dataset, column_index, include_percentages=False):\n    # Create an empty dictionary to store frequency counts\n    frequency_table = {}\n\n    # Calculate the total number of data points\n    total_data_points = len(dataset)\n\n    # Iterate through the dataset\n    for data_point in dataset[1:]:\n        # Get the value from the specified column\n        column_value = data_point[column_index]\n\n        # Check if the value is already in the dictionary, if not, initialize it to 0\n        if column_value not in frequency_table:\n            frequency_table[column_value] = 0\n\n        # Increment the frequency count for the value\n        frequency_table[column_value] += 1\n\n    if include_percentages:\n        # Calculate percentages and create a new dictionary\n        percentage_table = {}\n        for value, count in frequency_table.items():\n            percentage = (count / total_data_points) * 100\n            percentage_table[value] = percentage\n\n        # Sort the dictionary by percentage in descending order\n        sorted_percentage_table = dict(sorted(percentage_table.items(), key=lambda item: item[1], reverse=True))\n        \n        # Print the percentage table in descending order\n        for genre, percentage in sorted_percentage_table.items():\n            print(f\"{genre}: {percentage:.2f}%\")\n    else:\n        # Return the ordinary frequency table\n        return frequency_table",
      "metadata": {},
      "execution_count": 12,
      "outputs": []
    },
    {
      "cell_type": "markdown",
      "source": "#### Google playStore  frequency table by % for Genre column",
      "metadata": {}
    },
    {
      "cell_type": "code",
      "source": "#Google playStore Genre column\nbuild_frequency_table(googleplay_dataset, 9, True)",
      "metadata": {},
      "execution_count": 13,
      "outputs": [
        {
          "name": "stdout",
          "output_type": "stream",
          "text": "Tools: 8.59%\n\nEntertainment: 5.79%\n\nEducation: 5.23%\n\nBusiness: 4.36%\n\nMedical: 4.11%\n\nPersonalization: 3.90%\n\nProductivity: 3.88%\n\nLifestyle: 3.78%\n\nFinance: 3.59%\n\nSports: 3.44%\n\nCommunication: 3.27%\n\nAction: 3.11%\n\nHealth & Fitness: 3.00%\n\nPhotography: 2.91%\n\nNews & Magazines: 2.60%\n\nSocial: 2.49%\n\nBooks & Reference: 2.27%\n\nTravel & Local: 2.27%\n\nShopping: 2.09%\n\nSimulation: 1.98%\n\nArcade: 1.91%\n\nDating: 1.78%\n\nCasual: 1.71%\n\nVideo Players & Editors: 1.67%\n\nMaps & Navigation: 1.34%\n\nPuzzle: 1.24%\n\nFood & Drink: 1.16%\n\nRole Playing: 1.08%\n\nStrategy: 0.98%\n\nRacing: 0.95%\n\nAuto & Vehicles: 0.87%\n\nLibraries & Demo: 0.86%\n\nWeather: 0.82%\n\nHouse & Home: 0.76%\n\nAdventure: 0.75%\n\nEvents: 0.67%\n\nArt & Design: 0.58%\n\nComics: 0.56%\n\nBeauty: 0.55%\n\nCard: 0.48%\n\nParenting: 0.48%\n\nBoard: 0.43%\n\nCasino: 0.41%\n\nEducational;Education: 0.40%\n\nTrivia: 0.38%\n\nEducational: 0.38%\n\nEducation;Education: 0.36%\n\nCasual;Pretend Play: 0.26%\n\nWord: 0.24%\n\nMusic: 0.20%\n\nPuzzle;Brain Games: 0.19%\n\nEducation;Pretend Play: 0.18%\n\nRacing;Action & Adventure: 0.17%\n\nEntertainment;Music & Video: 0.16%\n\nBoard;Brain Games: 0.16%\n\nArcade;Action & Adventure: 0.15%\n\nCasual;Action & Adventure: 0.14%\n\nEducational;Pretend Play: 0.14%\n\nAction;Action & Adventure: 0.12%\n\nCasual;Brain Games: 0.12%\n\nEntertainment;Brain Games: 0.07%\n\nSimulation;Action & Adventure: 0.07%\n\nParenting;Education: 0.07%\n\nArt & Design;Creativity: 0.06%\n\nEducation;Creativity: 0.06%\n\nCasual;Creativity: 0.06%\n\nEducational;Brain Games: 0.06%\n\nParenting;Music & Video: 0.06%\n\nAdventure;Action & Adventure: 0.05%\n\nEducational;Creativity: 0.05%\n\nEducation;Action & Adventure: 0.04%\n\nEducation;Brain Games: 0.04%\n\nRole Playing;Action & Adventure: 0.04%\n\nSports;Action & Adventure: 0.04%\n\nRole Playing;Pretend Play: 0.04%\n\nEducation;Music & Video: 0.03%\n\nEntertainment;Creativity: 0.03%\n\nSimulation;Education: 0.03%\n\nCasual;Education: 0.03%\n\nMusic;Music & Video: 0.03%\n\nSimulation;Pretend Play: 0.03%\n\nEducational;Action & Adventure: 0.03%\n\nEntertainment;Action & Adventure: 0.03%\n\nPuzzle;Action & Adventure: 0.03%\n\nBoard;Action & Adventure: 0.03%\n\nPuzzle;Creativity: 0.02%\n\nStrategy;Action & Adventure: 0.02%\n\nEntertainment;Pretend Play: 0.02%\n\nCard;Action & Adventure: 0.02%\n\nVideo Players & Editors;Music & Video: 0.02%\n\nBooks & Reference;Education: 0.02%\n\nArt & Design;Pretend Play: 0.01%\n\nArt & Design;Action & Adventure: 0.01%\n\nComics;Creativity: 0.01%\n\nLifestyle;Pretend Play: 0.01%\n\nCard;Brain Games: 0.01%\n\nEntertainment;Education: 0.01%\n\nArcade;Pretend Play: 0.01%\n\nMusic & Audio;Music & Video: 0.01%\n\nHealth & Fitness;Education: 0.01%\n\nAdventure;Education: 0.01%\n\nBoard;Pretend Play: 0.01%\n\nCasual;Music & Video: 0.01%\n\nVideo Players & Editors;Creativity: 0.01%\n\nTravel & Local;Action & Adventure: 0.01%\n\nTools;Education: 0.01%\n\nParenting;Brain Games: 0.01%\n\nHealth & Fitness;Action & Adventure: 0.01%\n\nAdventure;Brain Games: 0.01%\n\nTrivia;Education: 0.01%\n\nLifestyle;Education: 0.01%\n\nBooks & Reference;Creativity: 0.01%\n\nPuzzle;Education: 0.01%\n\nRole Playing;Education: 0.01%\n\nRole Playing;Brain Games: 0.01%\n\nStrategy;Education: 0.01%\n\nRacing;Pretend Play: 0.01%\n\nCommunication;Creativity: 0.01%\n\nStrategy;Creativity: 0.01%\n"
        }
      ]
    },
    {
      "cell_type": "markdown",
      "source": "#### Google playStore frequency table by % for Category column",
      "metadata": {}
    },
    {
      "cell_type": "code",
      "source": "#Google Playstore Category column\nbuild_frequency_table(googleplay_dataset, 1, True)",
      "metadata": {},
      "execution_count": 14,
      "outputs": [
        {
          "name": "stdout",
          "output_type": "stream",
          "text": "FAMILY: 19.35%\n\nGAME: 9.79%\n\nTOOLS: 8.60%\n\nBUSINESS: 4.36%\n\nMEDICAL: 4.11%\n\nPERSONALIZATION: 3.90%\n\nPRODUCTIVITY: 3.88%\n\nLIFESTYLE: 3.79%\n\nFINANCE: 3.59%\n\nSPORTS: 3.38%\n\nCOMMUNICATION: 3.27%\n\nHEALTH_AND_FITNESS: 3.00%\n\nPHOTOGRAPHY: 2.91%\n\nNEWS_AND_MAGAZINES: 2.60%\n\nSOCIAL: 2.49%\n\nTRAVEL_AND_LOCAL: 2.28%\n\nBOOKS_AND_REFERENCE: 2.27%\n\nSHOPPING: 2.09%\n\nDATING: 1.78%\n\nVIDEO_PLAYERS: 1.70%\n\nMAPS_AND_NAVIGATION: 1.34%\n\nFOOD_AND_DRINK: 1.16%\n\nEDUCATION: 1.11%\n\nENTERTAINMENT: 0.90%\n\nAUTO_AND_VEHICLES: 0.87%\n\nLIBRARIES_AND_DEMO: 0.86%\n\nWEATHER: 0.82%\n\nHOUSE_AND_HOME: 0.76%\n\nEVENTS: 0.67%\n\nART_AND_DESIGN: 0.62%\n\nPARENTING: 0.62%\n\nCOMICS: 0.57%\n\nBEAUTY: 0.55%\n"
        }
      ]
    },
    {
      "cell_type": "markdown",
      "source": " #### Apple Ios Store frequency table by percentage for Prime_Genre Column",
      "metadata": {}
    },
    {
      "cell_type": "code",
      "source": "#Apple Ios prme genre column\nbuild_frequency_table(applestore_dataset, 11, True)",
      "metadata": {
        "scrolled": true
      },
      "execution_count": 15,
      "outputs": [
        {
          "name": "stdout",
          "output_type": "stream",
          "text": "Games: 54.85%\n\nEntertainment: 7.26%\n\nEducation: 6.63%\n\nPhoto & Video: 5.51%\n\nUtilities: 3.44%\n\nProductivity: 2.72%\n\nHealth & Fitness: 2.67%\n\nMusic: 2.22%\n\nSocial Networking: 2.04%\n\nSports: 1.68%\n\nLifestyle: 1.60%\n\nShopping: 1.37%\n\nWeather: 1.12%\n\nTravel: 0.97%\n\nNews: 0.92%\n\nBook: 0.89%\n\nReference: 0.86%\n\nBusiness: 0.86%\n\nFinance: 0.79%\n\nFood & Drink: 0.71%\n\nNavigation: 0.45%\n\nMedical: 0.34%\n\nCatalogs: 0.08%\n"
        }
      ]
    },
    {
      "cell_type": "markdown",
      "source": "Now from this observation. We can see that The Game genre of Apple Ios store has the most number of apps, fun apps to be precise,  but the category and the genre of the GoogleplayStore has a landscape of both fun and pratical apps.\n\nThis just simply tells us that ios developers have put more fun apps in the Games genre and android developers have made a landscape of both pratical and fun apps in the entertainment and tools genre. \n\nNow finding the the genre that have the most users(installs) will shows us the kind of apps with the most users.\n\nLet's find out because we are building these free apps for user.",
      "metadata": {}
    },
    {
      "cell_type": "markdown",
      "source": "#### Most Popular Apps by Genre on the App Store",
      "metadata": {}
    },
    {
      "cell_type": "code",
      "source": "freq_reviews=build_frequency_table(applestore_dataset,11, False)\n\nfor genre in freq_reviews:\n    reviews=0\n    no_of_apps=0\n    for app in applestore_dataset:\n        if app[11]==genre:\n            reviews+=float(app[5])\n            freq_reviews[genre]=reviews\n            no_of_apps+=1\n    freq_reviews[genre]= freq_reviews[genre]/no_of_apps\n    print(genre,':',freq_reviews[genre]) ",
      "metadata": {},
      "execution_count": 18,
      "outputs": [
        {
          "name": "stdout",
          "output_type": "stream",
          "text": "Social Networking : 60253.84920634921\n\nPhoto & Video : 14688.715542521993\n\nGames : 15586.759433962265\n\nMusic : 29047.109489051094\n\nReference : 27037.188679245282\n\nHealth & Fitness : 10802.157575757576\n\nWeather : 23145.246376811596\n\nUtilities : 7927.525821596244\n\nTravel : 19030.183333333334\n\nShopping : 26635.011764705883\n\nNews : 16980.315789473683\n\nNavigation : 19370.821428571428\n\nLifestyle : 8930.373737373737\n\nEntertainment : 8862.409799554565\n\nFood & Drink : 19934.386363636364\n\nSports : 15350.913461538461\n\nBook : 10359.2\n\nFinance : 23353.530612244896\n\nEducation : 2472.278048780488\n\nProductivity : 8508.089285714286\n\nBusiness : 5149.320754716981\n\nCatalogs : 3465.0\n\nMedical : 648.952380952381\n"
        }
      ]
    },
    {
      "cell_type": "markdown",
      "source": "#### Most Popular Apps by Genre on the Googleplay Store",
      "metadata": {}
    },
    {
      "cell_type": "code",
      "source": "freq_installs=build_frequency_table(googleplay_dataset,1, False)\n\nfor category in freq_installs:\n    no_of_installs=0\n    no_of_apps=0\n    for app in googleplay_dataset:\n        installs=app[5].replace(',','')\n        installs=installs.replace('+','')\n        if app[1]==category:\n            no_of_installs+=float(installs)\n            freq_installs[category]=no_of_installs\n            no_of_apps+=1\n    freq_installs[category]=no_of_installs/no_of_apps\n    print(category,':',freq_installs[category])\n            ",
      "metadata": {},
      "execution_count": 17,
      "outputs": [
        {
          "name": "stdout",
          "output_type": "stream",
          "text": "ART_AND_DESIGN : 1887285.0\n\nFAMILY : 3344163.6580645163\n\nAUTO_AND_VEHICLES : 632501.3214285715\n\nBEAUTY : 513151.88679245283\n\nBOOKS_AND_REFERENCE : 7641777.871559633\n\nBUSINESS : 1663758.627684964\n\nCOMICS : 817657.2727272727\n\nCOMMUNICATION : 35153714.17515924\n\nDATING : 824129.2807017544\n\nEDUCATION : 1770579.4392523365\n\nENTERTAINMENT : 11375402.298850575\n\nEVENTS : 249580.640625\n\nFINANCE : 1319851.4028985507\n\nFOOD_AND_DRINK : 1891060.2767857143\n\nHEALTH_AND_FITNESS : 3972300.388888889\n\nHOUSE_AND_HOME : 1331540.5616438356\n\nTOOLS : 9676869.30471584\n\nLIBRARIES_AND_DEMO : 626456.7469879518\n\nLIFESTYLE : 1369954.7774725275\n\nGAME : 14227278.868225291\n\nVIDEO_PLAYERS : 24121489.079754602\n\nMEDICAL : 96691.58734177215\n\nSOCIAL : 22961790.384937238\n\nSHOPPING : 6966908.880597015\n\nPHOTOGRAPHY : 16604098.410714285\n\nSPORTS : 3373767.6861538463\n\nTRAVEL_AND_LOCAL : 13218662.767123288\n\nPERSONALIZATION : 4086652.4853333333\n\nPRODUCTIVITY : 15530942.008042896\n\nPARENTING : 525351.8333333334\n\nWEATHER : 4570892.658227848\n\nNEWS_AND_MAGAZINES : 9472807.04\n\nMAPS_AND_NAVIGATION : 3900634.7286821706\n"
        }
      ]
    },
    {
      "cell_type": "markdown",
      "source": "# In Conclusion",
      "metadata": {}
    },
    {
      "cell_type": "markdown",
      "source": "#### In the Google Play Category\n\nCommunication: This category has the highest average installs with approximately 35,153,714 installations on average.\n\nVideo Players: The video players category has the second-highest average installs, with around 24,121,489 installations on average.\n\nSocial: Social apps are the third-highest in terms of average installs, with approximately 22,961,790 installations on average.\n\n#### In the Apple Ios Store Genre\nSocial Networking: This genre has the highest average rating, with an average of approximately 60,253.85.\n\nMusic: Music apps have the second-highest average rating, with an average of approximately 29,047.11.\n\nWeather: Weather apps are the third-highest in terms of average ratings, with an average of approximately 23,145.25.\n\n",
      "metadata": {}
    },
    {
      "cell_type": "markdown",
      "source": "We could build a social networking app like Facebook, Instagram or Twitter although it will be free, but it will complex and resource-intensive endeavor. It requires careful planning, a skilled development team, and ongoing maintenance and updates to stay competitive and secure in the evolving tech landscape. \n\nI recommend we build a Music app, incoperating features like Video Player that enable people watch the Music video directly on the app, comment rather than going to Youtube. We can also put features like lyric display and ability to send a message to the artist directly on the app about how the song was. \n\nFor ads, we can have music ads, like those on Spotify, when someone is listening to a song the music advert play and video ads display like those on youtube all in the app.",
      "metadata": {}
    },
    {
      "cell_type": "code",
      "source": "",
      "metadata": {},
      "execution_count": null,
      "outputs": []
    }
  ]
}