{
 "cells": [
  {
   "cell_type": "markdown",
   "metadata": {},
   "source": [
    "# Analyzing Mobile App Data\n",
    "\n",
    "This project is about finding the app that will attracts users the most\n",
    "\n",
    "Our goal for this project is to analyze data to help our developers understand what type of apps are likely to attract more users.\n"
   ]
  },
  {
   "cell_type": "markdown",
   "metadata": {},
   "source": [
    "#### Converting both datasets to lists of lists"
   ]
  },
  {
   "cell_type": "code",
   "execution_count": 2,
   "metadata": {},
   "outputs": [],
   "source": [
    "#Reusable function to convert csv file to lists of lists dataset\n",
    "def convt_to_list(csvfile):\n",
    "    opened_data = open(csvfile, encoding='utf8')\n",
    "    from csv import reader\n",
    "    read_dataset = reader(opened_data)\n",
    "    \n",
    "    return list(read_dataset)\n",
    "\n",
    "#Google PlayStore Data\n",
    "googleplay_data = convt_to_list('googleplaystore.csv')\n",
    "#Ios App Data\n",
    "applestore_data = convt_to_list('AppleStore.csv')\n"
   ]
  },
  {
   "cell_type": "markdown",
   "metadata": {},
   "source": [
    "Reusable function to print rows or columns in a readable way"
   ]
  },
  {
   "cell_type": "code",
   "execution_count": 3,
   "metadata": {
    "scrolled": true
   },
   "outputs": [
    {
     "name": "stdout",
     "output_type": "stream",
     "text": [
      "Number of rows: 10842\n",
      "Number of columns: 13\n",
      "\n",
      "\n",
      "['App', 'Category', 'Rating', 'Reviews', 'Size', 'Installs', 'Type', 'Price', 'Content Rating', 'Genres', 'Last Updated', 'Current Ver', 'Android Ver']\n",
      "\n",
      "\n",
      "['Photo Editor & Candy Camera & Grid & ScrapBook', 'ART_AND_DESIGN', '4.1', '159', '19M', '10,000+', 'Free', '0', 'Everyone', 'Art & Design', 'January 7, 2018', '1.0.0', '4.0.3 and up']\n",
      "\n",
      "\n",
      "['Coloring book moana', 'ART_AND_DESIGN', '3.9', '967', '14M', '500,000+', 'Free', '0', 'Everyone', 'Art & Design;Pretend Play', 'January 15, 2018', '2.0.0', '4.0.3 and up']\n",
      "\n",
      "\n",
      "['U Launcher Lite – FREE Live Cool Themes, Hide Apps', 'ART_AND_DESIGN', '4.7', '87510', '8.7M', '5,000,000+', 'Free', '0', 'Everyone', 'Art & Design', 'August 1, 2018', '1.2.4', '4.0.3 and up']\n",
      "\n",
      "\n",
      "['Sketch - Draw & Paint', 'ART_AND_DESIGN', '4.5', '215644', '25M', '50,000,000+', 'Free', '0', 'Teen', 'Art & Design', 'June 8, 2018', 'Varies with device', '4.2 and up']\n",
      "\n",
      "\n",
      "\n",
      "\n",
      "['id', 'track_name', 'size_bytes', 'currency', 'price', 'rating_count_tot', 'rating_count_ver', 'user_rating', 'user_rating_ver', 'ver', 'cont_rating', 'prime_genre', 'sup_devices.num', 'ipadSc_urls.num', 'lang.num', 'vpp_lic']\n",
      "\n",
      "\n",
      "['284882215', 'Facebook', '389879808', 'USD', '0.0', '2974676', '212', '3.5', '3.5', '95.0', '4+', 'Social Networking', '37', '1', '29', '1']\n",
      "\n",
      "\n",
      "['389801252', 'Instagram', '113954816', 'USD', '0.0', '2161558', '1289', '4.5', '4.0', '10.23', '12+', 'Photo & Video', '37', '0', '29', '1']\n",
      "\n",
      "\n",
      "['529479190', 'Clash of Clans', '116476928', 'USD', '0.0', '2130805', '579', '4.5', '4.5', '9.24.12', '9+', 'Games', '38', '5', '18', '1']\n",
      "\n",
      "\n",
      "['420009108', 'Temple Run', '65921024', 'USD', '0.0', '1724546', '3842', '4.5', '4.0', '1.6.2', '9+', 'Games', '40', '5', '1', '1']\n",
      "\n",
      "\n"
     ]
    }
   ],
   "source": [
    "def explore_data(dataset, start, end, rows_and_columns=False):\n",
    "    dataset_slice = dataset[start:end]\n",
    "    for row in dataset_slice:\n",
    "        print(row)\n",
    "        print('\\n')\n",
    "        \n",
    "    if rows_and_columns:\n",
    "        print('Number of rows:', len(dataset))\n",
    "        print('Number of columns:', len(dataset[0]))\n",
    "        \n",
    "#Printing number of rows and column in the dataset       \n",
    "explore_data(googleplay_data, 1 , 0, True)\n",
    "print('\\n')\n",
    "\n",
    "#Printing some few rows\n",
    "\n",
    "#Google PlayStore\n",
    "explore_data(googleplay_data, 0 , 5)\n",
    "print('\\n')\n",
    "#Apple Ios Store\n",
    "explore_data(applestore_data, 0 , 5)"
   ]
  },
  {
   "cell_type": "markdown",
   "metadata": {},
   "source": [
    "## Cleaning Data"
   ]
  },
  {
   "cell_type": "markdown",
   "metadata": {},
   "source": [
    "From the discussion section on Kaggle row 10473 has a column shift, it means, some data where missing for some columns. But i have to check for myself. I also have to check the rows for empty strings and other rows too for possible column shift."
   ]
  },
  {
   "cell_type": "markdown",
   "metadata": {},
   "source": [
    "#### Checking for Rows With empty Strings"
   ]
  },
  {
   "cell_type": "code",
   "execution_count": 4,
   "metadata": {
    "scrolled": false
   },
   "outputs": [
    {
     "name": "stdout",
     "output_type": "stream",
     "text": [
      "Rows with empty strings: [1554, 10473]\n",
      "Columns with empty strings: [11, 8]\n"
     ]
    }
   ],
   "source": [
    "def check_for_empty_strings(dataset):\n",
    "    # Initialize lists to store rows and columns with empty strings\n",
    "    rows_with_empty_strings = []\n",
    "    columns_with_empty_strings = []\n",
    "\n",
    "    # Iterate through the dataset rows\n",
    "    for row_index in range(len(dataset)):\n",
    "        row = dataset[row_index]\n",
    "\n",
    "        # Iterate through the cells in the current row\n",
    "        for col_index in range(len(row)):\n",
    "            cell = row[col_index]\n",
    "\n",
    "            if cell == \"\":\n",
    "                # Record the row and column indices where an empty string is found\n",
    "                rows_with_empty_strings.append(row_index)\n",
    "                columns_with_empty_strings.append(col_index)\n",
    "\n",
    "    return rows_with_empty_strings, columns_with_empty_strings\n",
    "\n",
    "\n",
    "# Call the function to check for empty strings\n",
    "empty_rows, empty_columns = check_for_empty_strings(googleplay_data)\n",
    "\n",
    "# Print rows and columns with empty strings\n",
    "if empty_rows:\n",
    "    print(\"Rows with empty strings:\", empty_rows)\n",
    "else:\n",
    "    print(\"No empty strings found in rows\")\n",
    "\n",
    "if empty_columns:\n",
    "    print(\"Columns with empty strings:\", empty_columns)\n",
    "else:\n",
    "    print(\"No empty strings found in columns\")\n"
   ]
  },
  {
   "cell_type": "markdown",
   "metadata": {},
   "source": [
    "#### Checking for Column shift"
   ]
  },
  {
   "cell_type": "code",
   "execution_count": 5,
   "metadata": {},
   "outputs": [
    {
     "name": "stdout",
     "output_type": "stream",
     "text": [
      "Rows with potential column shifts: [10473]\n"
     ]
    }
   ],
   "source": [
    "def check_for_column_shift(dataset):\n",
    "    # Check if the dataset is empty\n",
    "    if not dataset:\n",
    "        return \"Dataset is empty\"\n",
    "\n",
    "    # Determine the expected number of columns based on the length of the header row\n",
    "    expected_num_columns = len(dataset[0])\n",
    "\n",
    "    # Initialize a list to store rows with potential column shifts\n",
    "    rows_with_column_shift = []\n",
    "\n",
    "    # Iterate through the dataset rows, excluding the header row (start from index 1)\n",
    "    for row_index in range(1, len(dataset)):\n",
    "        # Check if the current row has a different number of columns than expected\n",
    "        if len(dataset[row_index]) != expected_num_columns:\n",
    "            rows_with_column_shift.append(row_index)\n",
    "\n",
    "    if not rows_with_column_shift:\n",
    "        return \"No column shifts found\"\n",
    "\n",
    "    return rows_with_column_shift\n",
    "\n",
    "# Call the function to check for column shifts\n",
    "column_shifts = check_for_column_shift(googleplay_data)\n",
    "\n",
    "# Print rows with potential column shifts or a message if no shifts were found\n",
    "if column_shifts == \"Dataset is empty\":\n",
    "    print(column_shifts)\n",
    "elif column_shifts == \"No column shifts found\":\n",
    "    print(column_shifts)\n",
    "else:\n",
    "    print(\"Rows with potential column shifts:\", column_shifts)\n"
   ]
  },
  {
   "cell_type": "markdown",
   "metadata": {},
   "source": [
    "You can see that row 1555 and thesame row 10473 has empty string. So we need to delete the row with empty strings. We are deleting these rows to maintain data quality and ensure that your dataset follows a consistent structure and for accurate analysys."
   ]
  },
  {
   "cell_type": "code",
   "execution_count": 6,
   "metadata": {},
   "outputs": [],
   "source": [
    "##### Deleting error Rows"
   ]
  },
  {
   "cell_type": "code",
   "execution_count": 7,
   "metadata": {},
   "outputs": [],
   "source": [
    "del googleplay_data[10473]\n",
    "del googleplay_data[1554]"
   ]
  },
  {
   "cell_type": "markdown",
   "metadata": {},
   "source": [
    "#### Checking for rows with duplicate apps"
   ]
  },
  {
   "cell_type": "code",
   "execution_count": 8,
   "metadata": {
    "scrolled": false
   },
   "outputs": [
    {
     "name": "stdout",
     "output_type": "stream",
     "text": [
      "Duplicate Apps (First 5 Names):\n",
      "Quick PDF Scanner + OCR FREE\n",
      "Box\n",
      "Google My Business\n",
      "ZOOM Cloud Meetings\n",
      "join.me - Simple Meetings\n",
      "\n",
      "\n",
      "Total duplicate apps found: 1181\n"
     ]
    }
   ],
   "source": [
    "def print_duplicate_apps(dataset, app_name_column, num_duplicates_to_print=5):\n",
    "    # Check if the dataset is empty\n",
    "    if not dataset:\n",
    "        return \"Dataset is empty\"\n",
    "\n",
    "    # Initialize a set to store unique app names\n",
    "    unique_app_names = set()\n",
    "\n",
    "    # Initialize a list to store duplicate app names\n",
    "    duplicate_app_names = []\n",
    "\n",
    "    # Iterate through the dataset rows, starting from the second row (excluding header)\n",
    "    for row in dataset[1:]:\n",
    "        app_name = row[app_name_column]\n",
    "\n",
    "        if app_name in unique_app_names:\n",
    "            # If the app name is already in the set, it's a duplicate\n",
    "            duplicate_app_names.append(app_name)\n",
    "        else:\n",
    "            # If the app name is not in the set, add it\n",
    "            unique_app_names.add(app_name)\n",
    "\n",
    "    if not duplicate_app_names:\n",
    "        return \"No duplicate apps found\"\n",
    "\n",
    "    # Print the specified number of duplicate app names\n",
    "    print(f\"Duplicate Apps (First {num_duplicates_to_print} Names):\")\n",
    "    for app_name in duplicate_app_names[:num_duplicates_to_print]:\n",
    "        print(app_name)\n",
    "    return \"Total duplicate apps found: \" + str(len(duplicate_app_names))\n",
    "\n",
    "\n",
    "# Specify the column index for the \"App Name\" column (e.g., column \"App Name\" in this case)\n",
    "app_name_column_index = 1\n",
    "\n",
    "# Call the function to print 5 duplicate app names\n",
    "result = print_duplicate_apps(googleplay_data, 0, num_duplicates_to_print=5)\n",
    "\n",
    "print('\\n')\n",
    "\n",
    "# Print the result message\n",
    "print(result)\n"
   ]
  },
  {
   "cell_type": "markdown",
   "metadata": {},
   "source": [
    "I am not going to remove the duplicates randomly. The higher the number of reviews, the more recent the data should be. So we'll keep the any duplicate app with the highest review. "
   ]
  },
  {
   "cell_type": "markdown",
   "metadata": {},
   "source": [
    "#### Removing Duplicate apps"
   ]
  },
  {
   "cell_type": "code",
   "execution_count": 9,
   "metadata": {},
   "outputs": [
    {
     "name": "stdout",
     "output_type": "stream",
     "text": [
      "After removing duplicate entries with less reviews we are left with 9659 row\n"
     ]
    }
   ],
   "source": [
    "def remove_duplicates_keep_highest_reviews(dataset):\n",
    "    # Create a dictionary to store apps and their highest reviews\n",
    "    app_highest_reviews = {}\n",
    "\n",
    "    # Iterate through the dataset, starting from the second row (index 1)\n",
    "    for row in dataset[1:]:\n",
    "        app_name = row[0]\n",
    "        reviews = row[3]\n",
    "\n",
    "        # Check if the app_name is already in the dictionary\n",
    "        if app_name in app_highest_reviews:\n",
    "            # If yes, compare reviews with the stored highest reviews\n",
    "            if reviews > app_highest_reviews[app_name][3]:\n",
    "                app_highest_reviews[app_name] = row\n",
    "        else:\n",
    "            # If no, add the app to the dictionary\n",
    "            app_highest_reviews[app_name] = row\n",
    "\n",
    "    # Convert the dictionary values (rows) to a list to create the cleaned dataset\n",
    "    cleaned_dataset = [dataset[0]]  # Initialize with the header\n",
    "    cleaned_dataset.extend(app_highest_reviews.values())\n",
    "\n",
    "    return cleaned_dataset\n",
    "\n",
    "# Call the function to remove duplicates and keep entries with the highest reviews\n",
    "cleaned_dataset = remove_duplicates_keep_highest_reviews(googleplay_data)\n",
    "\n",
    "# Print the length of cleaned dataset\n",
    "print('After removing duplicate entries with less reviews we are left with', len(cleaned_dataset), 'row')"
   ]
  },
  {
   "cell_type": "markdown",
   "metadata": {},
   "source": [
    "#### Filtering Non-English Apps for both datasets\n",
    "Google Play Dataset"
   ]
  },
  {
   "cell_type": "code",
   "execution_count": 10,
   "metadata": {},
   "outputs": [
    {
     "name": "stdout",
     "output_type": "stream",
     "text": [
      "9614 Rows Left after removing Non-English Apps from Google Play Dataset\n",
      "\n",
      "\n",
      "6184 Rows Left after removing Non-English Apps from Apple Store Dataset\n"
     ]
    }
   ],
   "source": [
    "def is_english(app_name):\n",
    "    # Function to check if the app name contains predominantly English characters\n",
    "    non_english_chars = 0\n",
    "    for char in app_name:\n",
    "        if ord(char) > 127:\n",
    "            non_english_chars += 1\n",
    "        if non_english_chars > 3:\n",
    "            return False\n",
    "    return True\n",
    "\n",
    "def filter_english_apps(dataset, app_name_column):\n",
    "    # Check if the dataset is empty\n",
    "    if not dataset:\n",
    "        return \"Dataset is empty\"\n",
    "\n",
    "    # Initialize a list to store rows of English apps\n",
    "    english_apps = []\n",
    "\n",
    "    # Iterate through the dataset rows, starting from the second row (excluding header)\n",
    "    for row in dataset[1:]:\n",
    "        app_name = row[app_name_column]\n",
    "        \n",
    "        if is_english(app_name):\n",
    "            # If the app name is identified as English, append the whole row to the English apps list\n",
    "            english_apps.append(row)\n",
    "\n",
    "    if not english_apps:\n",
    "        return \"No English apps found in the dataset\"\n",
    "\n",
    "    # Create a new dataset with only the English apps (including the header row)\n",
    "    new_dataset = [dataset[0]] + english_apps\n",
    "\n",
    "    return new_dataset\n",
    "\n",
    "\n",
    "# Call the function to filter out English apps\n",
    "googleplay_dataset = filter_english_apps(cleaned_dataset, 0)\n",
    "applestore_dataset = filter_english_apps(applestore_data, 1)\n",
    "\n",
    "# Print the new dataset with only English apps\n",
    "print(len(googleplay_dataset),  'Rows Left after removing Non-English Apps from Google Play Dataset')\n",
    "print('\\n')\n",
    "print(len(applestore_dataset),  'Rows Left after removing Non-English Apps from Apple Store Dataset')\n"
   ]
  },
  {
   "cell_type": "markdown",
   "metadata": {},
   "source": [
    "#### Isolating the Free Apps"
   ]
  },
  {
   "cell_type": "code",
   "execution_count": 11,
   "metadata": {
    "scrolled": true
   },
   "outputs": [
    {
     "name": "stdout",
     "output_type": "stream",
     "text": [
      "length of googleplay_dataset:  8862\n",
      "length of appleiosstore dataset:  3223\n"
     ]
    }
   ],
   "source": [
    "def isolate_free_apps(dataset, price_column):\n",
    "    # Check if the dataset is empty\n",
    "    if not dataset:\n",
    "        return \"Dataset is empty\"\n",
    "\n",
    "    # Initialize a list to store rows of free apps\n",
    "    free_apps = []\n",
    "\n",
    "    # Iterate through the dataset rows, starting from the second row (excluding header)\n",
    "    for row in dataset[1:]:\n",
    "        price = row[price_column]\n",
    "        \n",
    "        # Remove dollar signs and leading/trailing spaces, and convert to lowercase for case-insensitive matching\n",
    "        price = price.strip(\"$\").strip().lower()\n",
    "        \n",
    "        if price == \"0\" or price == \"0.0\" or price == \"free\":\n",
    "            # If the app is free (price is \"0\", \"0.0\", or \"free\"), append the whole row to the free apps list\n",
    "            free_apps.append(row)\n",
    "\n",
    "    if not free_apps:\n",
    "        return \"No free apps found in the dataset\"\n",
    "\n",
    "    # Create a new dataset with only the free apps (including the header row)\n",
    "    new_dataset = [dataset[0]] + free_apps\n",
    "    return new_dataset\n",
    "\n",
    "print('length of googleplay_dataset: ', len(isolate_free_apps(googleplay_dataset, 7)))\n",
    "print('length of appleiosstore dataset: ', len(isolate_free_apps(applestore_dataset, 4)))"
   ]
  },
  {
   "cell_type": "markdown",
   "metadata": {},
   "source": [
    "## Analysis"
   ]
  },
  {
   "cell_type": "markdown",
   "metadata": {},
   "source": [
    "Now that we are done with the cleaning part, We'll get to the analysis part. Our company's main goal to generate revenue by attracting more customers, To achieve this, We are going to use the following validation Strategy:\n",
    "\n",
    "- Make a minimal android version of the app, and add it to GooglePlay.\n",
    "- If the app is attracting enough users, We develop it further.\n",
    "- After 6 months, if the app is profitable, we build an IOS version of the app and add it to App Store\n",
    "\n",
    "We are going to be using the App Store 'prime_genre'  column and Google play dataset Genres and Category' column. We'll be checking the most common apps by Genres to determine the most frequent app genres."
   ]
  },
  {
   "cell_type": "markdown",
   "metadata": {},
   "source": [
    "#### Generating a Frequency Table for the two markets( Googleplay store and Ios app store)"
   ]
  },
  {
   "cell_type": "code",
   "execution_count": 12,
   "metadata": {},
   "outputs": [],
   "source": [
    "def build_frequency_table(dataset, column_index, include_percentages=False):\n",
    "    # Create an empty dictionary to store frequency counts\n",
    "    frequency_table = {}\n",
    "\n",
    "    # Calculate the total number of data points\n",
    "    total_data_points = len(dataset)\n",
    "\n",
    "    # Iterate through the dataset\n",
    "    for data_point in dataset[1:]:\n",
    "        # Get the value from the specified column\n",
    "        column_value = data_point[column_index]\n",
    "\n",
    "        # Check if the value is already in the dictionary, if not, initialize it to 0\n",
    "        if column_value not in frequency_table:\n",
    "            frequency_table[column_value] = 0\n",
    "\n",
    "        # Increment the frequency count for the value\n",
    "        frequency_table[column_value] += 1\n",
    "\n",
    "    if include_percentages:\n",
    "        # Calculate percentages and create a new dictionary\n",
    "        percentage_table = {}\n",
    "        for value, count in frequency_table.items():\n",
    "            percentage = (count / total_data_points) * 100\n",
    "            percentage_table[value] = percentage\n",
    "\n",
    "        # Sort the dictionary by percentage in descending order\n",
    "        sorted_percentage_table = dict(sorted(percentage_table.items(), key=lambda item: item[1], reverse=True))\n",
    "        \n",
    "        # Print the percentage table in descending order\n",
    "        for genre, percentage in sorted_percentage_table.items():\n",
    "            print(f\"{genre}: {percentage:.2f}%\")\n",
    "    else:\n",
    "        # Return the ordinary frequency table\n",
    "        return frequency_table"
   ]
  },
  {
   "cell_type": "markdown",
   "metadata": {},
   "source": [
    "###### Google playStore  frequency table by % for Genre column"
   ]
  },
  {
   "cell_type": "code",
   "execution_count": 13,
   "metadata": {
    "scrolled": false
   },
   "outputs": [
    {
     "name": "stdout",
     "output_type": "stream",
     "text": [
      "Tools: 8.59%\n",
      "Entertainment: 5.79%\n",
      "Education: 5.23%\n",
      "Business: 4.36%\n",
      "Medical: 4.11%\n",
      "Personalization: 3.90%\n",
      "Productivity: 3.88%\n",
      "Lifestyle: 3.78%\n",
      "Finance: 3.59%\n",
      "Sports: 3.44%\n",
      "Communication: 3.27%\n",
      "Action: 3.11%\n",
      "Health & Fitness: 3.00%\n",
      "Photography: 2.91%\n",
      "News & Magazines: 2.60%\n",
      "Social: 2.49%\n",
      "Books & Reference: 2.27%\n",
      "Travel & Local: 2.27%\n",
      "Shopping: 2.09%\n",
      "Simulation: 1.98%\n",
      "Arcade: 1.91%\n",
      "Dating: 1.78%\n",
      "Casual: 1.71%\n",
      "Video Players & Editors: 1.67%\n",
      "Maps & Navigation: 1.34%\n",
      "Puzzle: 1.24%\n",
      "Food & Drink: 1.16%\n",
      "Role Playing: 1.08%\n",
      "Strategy: 0.98%\n",
      "Racing: 0.95%\n",
      "Auto & Vehicles: 0.87%\n",
      "Libraries & Demo: 0.86%\n",
      "Weather: 0.82%\n",
      "House & Home: 0.76%\n",
      "Adventure: 0.75%\n",
      "Events: 0.67%\n",
      "Art & Design: 0.58%\n",
      "Comics: 0.56%\n",
      "Beauty: 0.55%\n",
      "Card: 0.48%\n",
      "Parenting: 0.48%\n",
      "Board: 0.43%\n",
      "Casino: 0.41%\n",
      "Educational;Education: 0.40%\n",
      "Trivia: 0.38%\n",
      "Educational: 0.38%\n",
      "Education;Education: 0.36%\n",
      "Casual;Pretend Play: 0.26%\n",
      "Word: 0.24%\n",
      "Music: 0.20%\n",
      "Puzzle;Brain Games: 0.19%\n",
      "Education;Pretend Play: 0.18%\n",
      "Racing;Action & Adventure: 0.17%\n",
      "Entertainment;Music & Video: 0.16%\n",
      "Board;Brain Games: 0.16%\n",
      "Arcade;Action & Adventure: 0.15%\n",
      "Casual;Action & Adventure: 0.14%\n",
      "Educational;Pretend Play: 0.14%\n",
      "Action;Action & Adventure: 0.12%\n",
      "Casual;Brain Games: 0.12%\n",
      "Entertainment;Brain Games: 0.07%\n",
      "Simulation;Action & Adventure: 0.07%\n",
      "Parenting;Education: 0.07%\n",
      "Art & Design;Creativity: 0.06%\n",
      "Education;Creativity: 0.06%\n",
      "Casual;Creativity: 0.06%\n",
      "Educational;Brain Games: 0.06%\n",
      "Parenting;Music & Video: 0.06%\n",
      "Adventure;Action & Adventure: 0.05%\n",
      "Educational;Creativity: 0.05%\n",
      "Education;Action & Adventure: 0.04%\n",
      "Education;Brain Games: 0.04%\n",
      "Role Playing;Action & Adventure: 0.04%\n",
      "Sports;Action & Adventure: 0.04%\n",
      "Role Playing;Pretend Play: 0.04%\n",
      "Education;Music & Video: 0.03%\n",
      "Entertainment;Creativity: 0.03%\n",
      "Simulation;Education: 0.03%\n",
      "Casual;Education: 0.03%\n",
      "Music;Music & Video: 0.03%\n",
      "Simulation;Pretend Play: 0.03%\n",
      "Educational;Action & Adventure: 0.03%\n",
      "Entertainment;Action & Adventure: 0.03%\n",
      "Puzzle;Action & Adventure: 0.03%\n",
      "Board;Action & Adventure: 0.03%\n",
      "Puzzle;Creativity: 0.02%\n",
      "Strategy;Action & Adventure: 0.02%\n",
      "Entertainment;Pretend Play: 0.02%\n",
      "Card;Action & Adventure: 0.02%\n",
      "Video Players & Editors;Music & Video: 0.02%\n",
      "Books & Reference;Education: 0.02%\n",
      "Art & Design;Pretend Play: 0.01%\n",
      "Art & Design;Action & Adventure: 0.01%\n",
      "Comics;Creativity: 0.01%\n",
      "Lifestyle;Pretend Play: 0.01%\n",
      "Card;Brain Games: 0.01%\n",
      "Entertainment;Education: 0.01%\n",
      "Arcade;Pretend Play: 0.01%\n",
      "Music & Audio;Music & Video: 0.01%\n",
      "Health & Fitness;Education: 0.01%\n",
      "Adventure;Education: 0.01%\n",
      "Board;Pretend Play: 0.01%\n",
      "Casual;Music & Video: 0.01%\n",
      "Video Players & Editors;Creativity: 0.01%\n",
      "Travel & Local;Action & Adventure: 0.01%\n",
      "Tools;Education: 0.01%\n",
      "Parenting;Brain Games: 0.01%\n",
      "Health & Fitness;Action & Adventure: 0.01%\n",
      "Adventure;Brain Games: 0.01%\n",
      "Trivia;Education: 0.01%\n",
      "Lifestyle;Education: 0.01%\n",
      "Books & Reference;Creativity: 0.01%\n",
      "Puzzle;Education: 0.01%\n",
      "Role Playing;Education: 0.01%\n",
      "Role Playing;Brain Games: 0.01%\n",
      "Strategy;Education: 0.01%\n",
      "Racing;Pretend Play: 0.01%\n",
      "Communication;Creativity: 0.01%\n",
      "Strategy;Creativity: 0.01%\n"
     ]
    }
   ],
   "source": [
    "#Google playStore Genre column\n",
    "build_frequency_table(googleplay_dataset, 9, True)"
   ]
  },
  {
   "cell_type": "markdown",
   "metadata": {},
   "source": [
    "###### Google playStore frequency table by % for Category column"
   ]
  },
  {
   "cell_type": "code",
   "execution_count": 14,
   "metadata": {
    "scrolled": false
   },
   "outputs": [
    {
     "name": "stdout",
     "output_type": "stream",
     "text": [
      "FAMILY: 19.35%\n",
      "GAME: 9.79%\n",
      "TOOLS: 8.60%\n",
      "BUSINESS: 4.36%\n",
      "MEDICAL: 4.11%\n",
      "PERSONALIZATION: 3.90%\n",
      "PRODUCTIVITY: 3.88%\n",
      "LIFESTYLE: 3.79%\n",
      "FINANCE: 3.59%\n",
      "SPORTS: 3.38%\n",
      "COMMUNICATION: 3.27%\n",
      "HEALTH_AND_FITNESS: 3.00%\n",
      "PHOTOGRAPHY: 2.91%\n",
      "NEWS_AND_MAGAZINES: 2.60%\n",
      "SOCIAL: 2.49%\n",
      "TRAVEL_AND_LOCAL: 2.28%\n",
      "BOOKS_AND_REFERENCE: 2.27%\n",
      "SHOPPING: 2.09%\n",
      "DATING: 1.78%\n",
      "VIDEO_PLAYERS: 1.70%\n",
      "MAPS_AND_NAVIGATION: 1.34%\n",
      "FOOD_AND_DRINK: 1.16%\n",
      "EDUCATION: 1.11%\n",
      "ENTERTAINMENT: 0.90%\n",
      "AUTO_AND_VEHICLES: 0.87%\n",
      "LIBRARIES_AND_DEMO: 0.86%\n",
      "WEATHER: 0.82%\n",
      "HOUSE_AND_HOME: 0.76%\n",
      "EVENTS: 0.67%\n",
      "ART_AND_DESIGN: 0.62%\n",
      "PARENTING: 0.62%\n",
      "COMICS: 0.57%\n",
      "BEAUTY: 0.55%\n"
     ]
    }
   ],
   "source": [
    "#Google Playstore Category column\n",
    "build_frequency_table(googleplay_dataset, 1, True)"
   ]
  },
  {
   "cell_type": "markdown",
   "metadata": {},
   "source": [
    " ###### Apple Ios Store frequency table by percentage for Prime_Genre Column"
   ]
  },
  {
   "cell_type": "code",
   "execution_count": 15,
   "metadata": {
    "scrolled": true
   },
   "outputs": [
    {
     "name": "stdout",
     "output_type": "stream",
     "text": [
      "Games: 54.85%\n",
      "Entertainment: 7.26%\n",
      "Education: 6.63%\n",
      "Photo & Video: 5.51%\n",
      "Utilities: 3.44%\n",
      "Productivity: 2.72%\n",
      "Health & Fitness: 2.67%\n",
      "Music: 2.22%\n",
      "Social Networking: 2.04%\n",
      "Sports: 1.68%\n",
      "Lifestyle: 1.60%\n",
      "Shopping: 1.37%\n",
      "Weather: 1.12%\n",
      "Travel: 0.97%\n",
      "News: 0.92%\n",
      "Book: 0.89%\n",
      "Reference: 0.86%\n",
      "Business: 0.86%\n",
      "Finance: 0.79%\n",
      "Food & Drink: 0.71%\n",
      "Navigation: 0.45%\n",
      "Medical: 0.34%\n",
      "Catalogs: 0.08%\n"
     ]
    }
   ],
   "source": [
    "#Apple Ios prme genre column\n",
    "build_frequency_table(applestore_dataset, 11, True)"
   ]
  },
  {
   "cell_type": "markdown",
   "metadata": {},
   "source": [
    "Now from this observation. We can see that The Game genre of Apple Ios store has the most number of apps, fun apps to be precise,  but the category and the genre of the GoogleplayStore has a landscape of both fun and pratical apps.\n",
    "\n",
    "This just simply tells us that ios developers have put more fun apps in the Games genre and android developers have made a landscape of both pratical and fun apps in the entertainment and tools genre. \n",
    "\n",
    "Now finding the the genre that have the most users(installs) will shows us the kind of apps with the most users.\n",
    "\n",
    "Let's find out because we are building these free apps for user."
   ]
  },
  {
   "cell_type": "markdown",
   "metadata": {},
   "source": [
    "#### Most Popular Apps by Genre on the App Store"
   ]
  },
  {
   "cell_type": "code",
   "execution_count": 18,
   "metadata": {},
   "outputs": [
    {
     "name": "stdout",
     "output_type": "stream",
     "text": [
      "Social Networking : 60253.84920634921\n",
      "Photo & Video : 14688.715542521993\n",
      "Games : 15586.759433962265\n",
      "Music : 29047.109489051094\n",
      "Reference : 27037.188679245282\n",
      "Health & Fitness : 10802.157575757576\n",
      "Weather : 23145.246376811596\n",
      "Utilities : 7927.525821596244\n",
      "Travel : 19030.183333333334\n",
      "Shopping : 26635.011764705883\n",
      "News : 16980.315789473683\n",
      "Navigation : 19370.821428571428\n",
      "Lifestyle : 8930.373737373737\n",
      "Entertainment : 8862.409799554565\n",
      "Food & Drink : 19934.386363636364\n",
      "Sports : 15350.913461538461\n",
      "Book : 10359.2\n",
      "Finance : 23353.530612244896\n",
      "Education : 2472.278048780488\n",
      "Productivity : 8508.089285714286\n",
      "Business : 5149.320754716981\n",
      "Catalogs : 3465.0\n",
      "Medical : 648.952380952381\n"
     ]
    }
   ],
   "source": [
    "freq_reviews=build_frequency_table(applestore_dataset,11, False)\n",
    "\n",
    "for genre in freq_reviews:\n",
    "    reviews=0\n",
    "    no_of_apps=0\n",
    "    for app in applestore_dataset:\n",
    "        if app[11]==genre:\n",
    "            reviews+=float(app[5])\n",
    "            freq_reviews[genre]=reviews\n",
    "            no_of_apps+=1\n",
    "    freq_reviews[genre]= freq_reviews[genre]/no_of_apps\n",
    "    print(genre,':',freq_reviews[genre]) "
   ]
  },
  {
   "cell_type": "markdown",
   "metadata": {},
   "source": [
    "#### Most Popular Apps by Genre on the Googleplay Store"
   ]
  },
  {
   "cell_type": "code",
   "execution_count": 17,
   "metadata": {},
   "outputs": [
    {
     "name": "stdout",
     "output_type": "stream",
     "text": [
      "ART_AND_DESIGN : 1887285.0\n",
      "FAMILY : 3344163.6580645163\n",
      "AUTO_AND_VEHICLES : 632501.3214285715\n",
      "BEAUTY : 513151.88679245283\n",
      "BOOKS_AND_REFERENCE : 7641777.871559633\n",
      "BUSINESS : 1663758.627684964\n",
      "COMICS : 817657.2727272727\n",
      "COMMUNICATION : 35153714.17515924\n",
      "DATING : 824129.2807017544\n",
      "EDUCATION : 1770579.4392523365\n",
      "ENTERTAINMENT : 11375402.298850575\n",
      "EVENTS : 249580.640625\n",
      "FINANCE : 1319851.4028985507\n",
      "FOOD_AND_DRINK : 1891060.2767857143\n",
      "HEALTH_AND_FITNESS : 3972300.388888889\n",
      "HOUSE_AND_HOME : 1331540.5616438356\n",
      "TOOLS : 9676869.30471584\n",
      "LIBRARIES_AND_DEMO : 626456.7469879518\n",
      "LIFESTYLE : 1369954.7774725275\n",
      "GAME : 14227278.868225291\n",
      "VIDEO_PLAYERS : 24121489.079754602\n",
      "MEDICAL : 96691.58734177215\n",
      "SOCIAL : 22961790.384937238\n",
      "SHOPPING : 6966908.880597015\n",
      "PHOTOGRAPHY : 16604098.410714285\n",
      "SPORTS : 3373767.6861538463\n",
      "TRAVEL_AND_LOCAL : 13218662.767123288\n",
      "PERSONALIZATION : 4086652.4853333333\n",
      "PRODUCTIVITY : 15530942.008042896\n",
      "PARENTING : 525351.8333333334\n",
      "WEATHER : 4570892.658227848\n",
      "NEWS_AND_MAGAZINES : 9472807.04\n",
      "MAPS_AND_NAVIGATION : 3900634.7286821706\n"
     ]
    }
   ],
   "source": [
    "freq_installs=build_frequency_table(googleplay_dataset,1, False)\n",
    "\n",
    "for category in freq_installs:\n",
    "    no_of_installs=0\n",
    "    no_of_apps=0\n",
    "    for app in googleplay_dataset:\n",
    "        installs=app[5].replace(',','')\n",
    "        installs=installs.replace('+','')\n",
    "        if app[1]==category:\n",
    "            no_of_installs+=float(installs)\n",
    "            freq_installs[category]=no_of_installs\n",
    "            no_of_apps+=1\n",
    "    freq_installs[category]=no_of_installs/no_of_apps\n",
    "    print(category,':',freq_installs[category])\n",
    "            "
   ]
  },
  {
   "cell_type": "markdown",
   "metadata": {},
   "source": [
    "# FINAL RESULT\n",
    "\n",
    "## The Best Profitable App To Build on Both Platforms"
   ]
  },
  {
   "cell_type": "markdown",
   "metadata": {},
   "source": [
    "#### In the Google Play Category\n",
    "\n",
    "Communication: This category has the highest average installs with approximately 35,153,714 installations on average.\n",
    "\n",
    "Video Players: The video players category has the second-highest average installs, with around 24,121,489 installations on average.\n",
    "\n",
    "Social: Social apps are the third-highest in terms of average installs, with approximately 22,961,790 installations on average.\n",
    "\n",
    "#### In the Apple Ios Store Genre\n",
    "Social Networking: This genre has the highest average rating, with an average of approximately 60,253.85.\n",
    "\n",
    "Music: Music apps have the second-highest average rating, with an average of approximately 29,047.11.\n",
    "\n",
    "Weather: Weather apps are the third-highest in terms of average ratings, with an average of approximately 23,145.25.\n",
    "\n"
   ]
  },
  {
   "cell_type": "markdown",
   "metadata": {},
   "source": [
    "We could build a social networking app like Facebook, Instagram or Twitter although it will be free, but it will complex and resource-intensive endeavor. It requires careful planning, a skilled development team, and ongoing maintenance and updates to stay competitive and secure in the evolving tech landscape. \n",
    "\n",
    "I recommend we build a Music app, incoperating features like Video Player that enable people watch the Music video directly on the app, comment rather than going to Youtube. We can also put features like lyric display and ability to send a message to the artist directly on the app about how the song was. \n",
    "\n",
    "For ads, we can have music ads, like those on Spotify, when someone is listening to a song the music advert play and video ads display like those on youtube all in the app.\n",
    "\n",
    "We could call the Music App sounvid( Sounds and videos). "
   ]
  },
  {
   "cell_type": "code",
   "execution_count": null,
   "metadata": {},
   "outputs": [],
   "source": []
  }
 ],
 "metadata": {
  "kernelspec": {
   "display_name": "Python 3",
   "language": "python",
   "name": "python3"
  },
  "language_info": {
   "codemirror_mode": {
    "name": "ipython",
    "version": 3
   },
   "file_extension": ".py",
   "mimetype": "text/x-python",
   "name": "python",
   "nbconvert_exporter": "python",
   "pygments_lexer": "ipython3",
   "version": "3.8.2"
  }
 },
 "nbformat": 4,
 "nbformat_minor": 2
}
