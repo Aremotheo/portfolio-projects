{
 "cells": [
  {
   "cell_type": "markdown",
   "metadata": {
    "collapsed": true
   },
   "source": [
    "# Exploring Hacker News Posts"
   ]
  },
  {
   "cell_type": "markdown",
   "metadata": {},
   "source": [
    "In the world of technology and online communities, Hacker News stands as a prominent platform where individuals share and discuss the latest developments, projects, and ideas. In this data analysis project, we delve into a treasure trove of insights contained within a CSV dataset sourced from Hacker News. \n",
    "\n",
    "With this dataset at our disposal, we aim to uncover trends, patterns, and valuable information regarding the discussions and user interactions on this platforms. "
   ]
  },
  {
   "cell_type": "markdown",
   "metadata": {},
   "source": [
    "### Storing data in the csv to a list"
   ]
  },
  {
   "cell_type": "code",
   "execution_count": 1,
   "metadata": {},
   "outputs": [],
   "source": [
    "# Import the 'reader' class from the 'csv' module\n",
    "from csv import reader\n",
    "\n",
    "# Open the CSV file named 'hacker_news.csv' in read mode\n",
    "open_file = open('hacker_news.csv')\n",
    "\n",
    "# Create a 'reader' object to read the CSV file\n",
    "read_file = reader(open_file)\n",
    "\n",
    "# Read the CSV data and store it in the 'hn' list\n",
    "hn = list(read_file)\n",
    "\n",
    "# Remove the header row, which contains column names\n",
    "hn = hn[1:]\n",
    "\n",
    "# Now, 'hn' contains the CSV data without the header row"
   ]
  },
  {
   "cell_type": "markdown",
   "metadata": {},
   "source": [
    "### Extracting Ask HN and Show HN Posts\n",
    "Since we're only concerned with post titles beginning with Ask HN or Show HN, we'll create new lists of lists containing just the data for those titles."
   ]
  },
  {
   "cell_type": "code",
   "execution_count": 2,
   "metadata": {},
   "outputs": [],
   "source": [
    "ask_posts = []     # List to store \"Ask HN\" posts\n",
    "show_posts = []    # List to store \"Show HN\" posts\n",
    "other_posts = []   # List to store other posts\n",
    "\n",
    "# Iterate through each row in the 'hn' list\n",
    "for row in hn:\n",
    "    title = row[1]  # Extract the title from the current row\n",
    "    title = title.lower()  # Convert the title to lowercase for case-insensitive comparison\n",
    "    \n",
    "    # Check if the title starts with \"ask hn\"\n",
    "    if title.startswith('ask hn'):\n",
    "        ask_posts.append(row)  # Append the row to the 'ask_posts' list\n",
    "    \n",
    "    # Check if the title starts with \"show hn\"\n",
    "    elif title.startswith('show hn'):\n",
    "        show_posts.append(row)  # Append the row to the 'show_posts' list\n",
    "    \n",
    "    # If the title doesn't match either \"Ask HN\" or \"Show HN\", categorize it as 'other'\n",
    "    else:\n",
    "        other_posts.append(row)  # Append the row to the 'other_posts' list"
   ]
  },
  {
   "cell_type": "markdown",
   "metadata": {},
   "source": [
    "### Calculating the Average Number of Comments for Ask HN and Show HN Posts\n",
    "let's determine if ask posts or show posts receive more comments on average."
   ]
  },
  {
   "cell_type": "code",
   "execution_count": 3,
   "metadata": {},
   "outputs": [
    {
     "name": "stdout",
     "output_type": "stream",
     "text": [
      "Average num of comments for ask_posts: 14.038417431192661\n",
      "Average num of comments for show_posts: 10.31669535283993\n"
     ]
    }
   ],
   "source": [
    "total_ask_comments = 0\n",
    "\n",
    "for post in ask_posts:\n",
    "    num_comments = int(post[4])  # Comments count is in the 5th column (index 4)\n",
    "    total_ask_comments += num_comments\n",
    "\n",
    "# Calculate the average number of comments\n",
    "avg_ask_comments = total_ask_comments / len(ask_posts)\n",
    "\n",
    "# Now, avg_show_comments contains the average number of comments on show posts\n",
    "print('Average num of comments for ask_posts:', avg_ask_comments)\n",
    "\n",
    "#-------------show_posts-----------------\n",
    "total_show_comments = 0\n",
    "\n",
    "for post in show_posts:\n",
    "    num_comments = int(post[4])  # Comments count is in the 5th column (index 4)\n",
    "    total_show_comments += num_comments\n",
    "\n",
    "# Calculate the average number of comments\n",
    "avg_show_comments = total_show_comments / len(show_posts)\n",
    "\n",
    "# Now, avg_show_comments contains the average number of comments on the show posts\n",
    "print('Average num of comments for show_posts:', avg_show_comments)"
   ]
  },
  {
   "cell_type": "markdown",
   "metadata": {},
   "source": [
    "From the result above, you can see that ask_posts on average receive more comment than show_posts"
   ]
  },
  {
   "cell_type": "markdown",
   "metadata": {},
   "source": [
    "### Finding the Number of Ask Posts and Comments by Hour Created\n",
    "\n",
    "We finding this because we want to  determine if ask posts created at a certain time are more likely to attract comments and also the number of comments ask posts receives by hour created"
   ]
  },
  {
   "cell_type": "code",
   "execution_count": 4,
   "metadata": {},
   "outputs": [],
   "source": [
    "import datetime as dt\n",
    "\n",
    "result_list = []\n",
    "for post in ask_posts:\n",
    "    created_at = post[6]\n",
    "    num_comments = int(post[4])\n",
    "    result_list.append([created_at, num_comments])\n",
    "\n",
    "counts_by_hour = {}\n",
    "comments_by_hour = {}\n",
    "\n",
    "for row in result_list:\n",
    "    date_string = row[0]\n",
    "    comment_count = row[1]\n",
    "    \n",
    "    # Parse the date string into a datetime object\n",
    "    date_obj = dt.datetime.strptime(date_string, \"%m/%d/%Y %H:%M\")\n",
    "    \n",
    "    # Extract the hour from the datetime object\n",
    "    hour = date_obj.strftime(\"%H\")\n",
    "    \n",
    "    if hour not in counts_by_hour:\n",
    "        counts_by_hour[hour] = 1\n",
    "        comments_by_hour[hour] = comment_count\n",
    "    else:\n",
    "        counts_by_hour[hour] += 1\n",
    "        comments_by_hour[hour] += comment_count\n"
   ]
  },
  {
   "cell_type": "markdown",
   "metadata": {},
   "source": [
    "This result shows us the number of ask posts created during each hour of the day and the corresponding number of comments it received at each hour"
   ]
  },
  {
   "cell_type": "code",
   "execution_count": 5,
   "metadata": {},
   "outputs": [
    {
     "name": "stdout",
     "output_type": "stream",
     "text": [
      "09:00: 5.58 average comments per post\n",
      "13:00: 14.74 average comments per post\n",
      "10:00: 13.44 average comments per post\n",
      "14:00: 13.23 average comments per post\n",
      "16:00: 16.80 average comments per post\n",
      "23:00: 7.99 average comments per post\n",
      "12:00: 9.41 average comments per post\n",
      "17:00: 11.46 average comments per post\n",
      "15:00: 38.59 average comments per post\n",
      "21:00: 16.01 average comments per post\n",
      "20:00: 21.52 average comments per post\n",
      "02:00: 23.81 average comments per post\n",
      "18:00: 13.20 average comments per post\n",
      "03:00: 7.80 average comments per post\n",
      "05:00: 10.09 average comments per post\n",
      "19:00: 10.80 average comments per post\n",
      "01:00: 11.38 average comments per post\n",
      "22:00: 6.75 average comments per post\n",
      "08:00: 10.25 average comments per post\n",
      "04:00: 7.17 average comments per post\n",
      "00:00: 8.13 average comments per post\n",
      "06:00: 9.02 average comments per post\n",
      "07:00: 7.85 average comments per post\n",
      "11:00: 11.05 average comments per post\n"
     ]
    }
   ],
   "source": [
    "from datetime import datetime\n",
    "\n",
    "avg_by_hour = []\n",
    "\n",
    "for hour in counts_by_hour:\n",
    "    average_comments = comments_by_hour[hour] / counts_by_hour[hour]\n",
    "    hour_datetime = datetime.strptime(hour, \"%H\")\n",
    "    formatted_hour = hour_datetime.strftime(\"%H:%M\")\n",
    "    avg_by_hour.append([formatted_hour, average_comments])\n",
    "\n",
    "# Display the results\n",
    "for hour_avg in avg_by_hour:\n",
    "    print(f\"{hour_avg[0]}: {hour_avg[1]:.2f} average comments per post\")"
   ]
  },
  {
   "cell_type": "markdown",
   "metadata": {},
   "source": [
    "### Top 5 Hours for 'Ask HN' Comments\n",
    "- 15:00: 38.59 average comments per post\n",
    "- 02:00: 23.81 average comments per post\n",
    "- 20:00: 21.52 average comments per post\n",
    "- 16:00: 16.80 average comments per post\n",
    "- 21:00: 16.01 average comments per post"
   ]
  },
  {
   "cell_type": "markdown",
   "metadata": {},
   "source": [
    "The time slot that receives the highest average comments per post is at 3:00 PM EST, with an average of 38.59 comments per post. There's approximately a 60% increase in the number of comments between this peak hour and the second-highest hour.\n",
    "\n",
    "Based on the dataset's documentation, the timezone considered is Eastern Time in the US, so 15:00 can also be expressed as 3:00 PM EST.\n",
    "\n",
    "## In conclusion, \n",
    "This project analyzed ask and show posts to identify which type and time of post receive the most comments on average. According to our analysis, for maximizing the number of comments a post receives, we recommend categorizing it as an 'ask' post and creating it between 3:00 PM and 4:00 PM EST. \n",
    "\n",
    "However, it's important to note that this analysis excluded posts without any comments. Therefore, it's more accurate to state that among posts with comments, 'ask' posts received the highest average comments, particularly those created between 3:00 PM and 4:00 PM EST.\""
   ]
  }
 ],
 "metadata": {
  "kernelspec": {
   "display_name": "Python 3",
   "language": "python",
   "name": "python3"
  },
  "language_info": {
   "codemirror_mode": {
    "name": "ipython",
    "version": 3
   },
   "file_extension": ".py",
   "mimetype": "text/x-python",
   "name": "python",
   "nbconvert_exporter": "python",
   "pygments_lexer": "ipython3",
   "version": "3.8.2"
  }
 },
 "nbformat": 4,
 "nbformat_minor": 2
}
